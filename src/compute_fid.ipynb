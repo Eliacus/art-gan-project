{
 "cells": [
  {
   "cell_type": "code",
   "execution_count": 1,
   "metadata": {},
   "outputs": [],
   "source": [
    "from DCGAN import DCGAN\n",
    "from fid import calculate_frechet_distance, compute_statistics_of_path, calculate_frechet_distance\n",
    "from inception import InceptionV3\n",
    "import os\n",
    "import numpy as np\n",
    "import torch"
   ]
  },
  {
   "cell_type": "code",
   "execution_count": 2,
   "metadata": {},
   "outputs": [],
   "source": [
    "# Number of channels in the training images. For color images this is 3\n",
    "num_channels = 3\n",
    "\n",
    "# Size of z latent vector (i.e. size of generator input)\n",
    "latent_dim = 128\n",
    "\n",
    "# Size of feature maps in generator\n",
    "num_generator_features = 128\n",
    "\n",
    "# Size of feature maps in discriminator\n",
    "num_discriminator_features = 64\n",
    "\n",
    "NUM_WORKERS = int(os.cpu_count() - 1)\n",
    "BATCH_SIZE = 6 \n",
    "\n",
    "IMAGE_SIZE = 512\n",
    "\n",
    "device = \"cpu\"\n",
    "\n",
    "dataset_path = \"../data/celeba/img_align_celeba/img_align_celeba/\"\n",
    "\n",
    "dataset_path = \"../data/art_dataset/resized/resized/\"\n",
    "dataset_statistics_path = \"/\".join(dataset_path.split(\"/\")[:-1]) + \"/inception_statistics.npz\""
   ]
  },
  {
   "cell_type": "code",
   "execution_count": 3,
   "metadata": {},
   "outputs": [],
   "source": [
    "model = DCGAN(\n",
    "    num_channels=num_channels,\n",
    "    latent_dim=latent_dim,\n",
    "    num_generator_features=num_discriminator_features,\n",
    "    num_discriminator_features=num_discriminator_features,\n",
    ").to(device)"
   ]
  },
  {
   "cell_type": "code",
   "execution_count": 4,
   "metadata": {},
   "outputs": [],
   "source": [
    "inception_model = InceptionV3().to(device)"
   ]
  },
  {
   "cell_type": "markdown",
   "metadata": {},
   "source": [
    "## Compute statistics for dataset"
   ]
  },
  {
   "cell_type": "code",
   "execution_count": 5,
   "metadata": {},
   "outputs": [
    {
     "name": "stderr",
     "output_type": "stream",
     "text": [
      "100%|██████████| 1448/1448 [05:33<00:00,  4.34it/s]\n"
     ]
    },
    {
     "name": "stdout",
     "output_type": "stream",
     "text": [
      "[0.25800682 0.30712518 0.2384513  ... 0.39552785 0.35121119 0.48443139] [[ 0.03824288 -0.00230245  0.00187763 ...  0.00401214 -0.00159032\n",
      "   0.00057394]\n",
      " [-0.00230245  0.0691257  -0.00308235 ... -0.0012949   0.01224022\n",
      "  -0.00482495]\n",
      " [ 0.00187763 -0.00308235  0.04732785 ... -0.00113145  0.00652731\n",
      "   0.00723025]\n",
      " ...\n",
      " [ 0.00401214 -0.0012949  -0.00113145 ...  0.14086064  0.00867903\n",
      "   0.01277959]\n",
      " [-0.00159032  0.01224022  0.00652731 ...  0.00867903  0.09965251\n",
      "   0.00404461]\n",
      " [ 0.00057394 -0.00482495  0.00723025 ...  0.01277959  0.00404461\n",
      "   0.16002851]]\n"
     ]
    }
   ],
   "source": [
    "m1, s1 = compute_statistics_of_path(dataset_path, inception_model, BATCH_SIZE, 2048, device, 12)\n",
    "print(m1, s1)\n"
   ]
  },
  {
   "cell_type": "code",
   "execution_count": 6,
   "metadata": {},
   "outputs": [],
   "source": [
    "\n",
    "np.savez(dataset_statistics_path, m=m1, s=s1)"
   ]
  },
  {
   "cell_type": "code",
   "execution_count": 7,
   "metadata": {},
   "outputs": [
    {
     "name": "stdout",
     "output_type": "stream",
     "text": [
      "(2048,)\n",
      "(2048, 2048)\n"
     ]
    }
   ],
   "source": [
    "dataset_statistics_file = np.load(dataset_statistics_path)\n",
    "m = dataset_statistics_file[\"m\"]\n",
    "s = dataset_statistics_file[\"s\"]\n",
    "print(m.shape)\n",
    "print(s.shape)"
   ]
  },
  {
   "cell_type": "markdown",
   "metadata": {},
   "source": [
    "## Compute statistics for batch of predictions"
   ]
  },
  {
   "cell_type": "code",
   "execution_count": 8,
   "metadata": {},
   "outputs": [
    {
     "name": "stdout",
     "output_type": "stream",
     "text": [
      "torch.Size([6, 128, 1, 1])\n"
     ]
    }
   ],
   "source": [
    "z = torch.randn(BATCH_SIZE, latent_dim, 1, 1).to(device)\n",
    "generated_images = model(z)\n",
    "print(z.shape)"
   ]
  },
  {
   "cell_type": "code",
   "execution_count": 9,
   "metadata": {},
   "outputs": [],
   "source": [
    "pred = inception_model(generated_images)[0]"
   ]
  },
  {
   "cell_type": "code",
   "execution_count": 10,
   "metadata": {},
   "outputs": [],
   "source": [
    "resized_pred = pred.squeeze().detach().cpu().numpy()\n",
    "mu2 = np.mean(resized_pred, axis=0)\n",
    "sigma = np.cov(resized_pred, rowvar=False)"
   ]
  },
  {
   "cell_type": "code",
   "execution_count": 11,
   "metadata": {},
   "outputs": [
    {
     "name": "stdout",
     "output_type": "stream",
     "text": [
      "(2048,)\n",
      "(2048, 2048)\n"
     ]
    }
   ],
   "source": [
    "print(mu2.shape)\n",
    "print(sigma.shape)"
   ]
  },
  {
   "cell_type": "code",
   "execution_count": 12,
   "metadata": {},
   "outputs": [
    {
     "data": {
      "text/plain": [
       "545.1638588031259"
      ]
     },
     "execution_count": 12,
     "metadata": {},
     "output_type": "execute_result"
    }
   ],
   "source": [
    "calculate_frechet_distance(mu2, sigma, m, s)"
   ]
  },
  {
   "cell_type": "code",
   "execution_count": null,
   "metadata": {},
   "outputs": [],
   "source": []
  }
 ],
 "metadata": {
  "interpreter": {
   "hash": "64df8562ad1e0b9a54ae19b6f8c3a592180281d35bf5de73bc27ee58f75114dd"
  },
  "kernelspec": {
   "display_name": "Python 3.9.5 ('torch')",
   "language": "python",
   "name": "python3"
  },
  "language_info": {
   "codemirror_mode": {
    "name": "ipython",
    "version": 3
   },
   "file_extension": ".py",
   "mimetype": "text/x-python",
   "name": "python",
   "nbconvert_exporter": "python",
   "pygments_lexer": "ipython3",
   "version": "3.9.5"
  },
  "orig_nbformat": 4
 },
 "nbformat": 4,
 "nbformat_minor": 2
}
