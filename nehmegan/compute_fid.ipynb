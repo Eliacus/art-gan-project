{
 "cells": [
  {
   "cell_type": "code",
   "execution_count": null,
   "metadata": {},
   "outputs": [],
   "source": [
    "from DCGAN import DCGAN\n",
    "from fid import calculate_frechet_distance, compute_statistics_of_path, calculate_frechet_distance\n",
    "from inception import InceptionV3\n",
    "import os\n",
    "import numpy as np\n",
    "import torch\n",
    "\n",
    "%load_ext autoreload\n",
    "%autoreload 2"
   ]
  },
  {
   "cell_type": "code",
   "execution_count": null,
   "metadata": {},
   "outputs": [],
   "source": [
    "# Number of channels in the training images. For color images this is 3\n",
    "num_channels = 3\n",
    "\n",
    "# Size of z latent vector (i.e. size of generator input)\n",
    "latent_dim = 128\n",
    "\n",
    "# Size of feature maps in generator\n",
    "num_generator_features = 128\n",
    "\n",
    "# Size of feature maps in discriminator\n",
    "num_discriminator_features = 64\n",
    "\n",
    "NUM_WORKERS = int(os.cpu_count() - 1)\n",
    "BATCH_SIZE = 6 \n",
    "\n",
    "IMAGE_SIZE = 512\n",
    "\n",
    "DEVICE = \"cuda\"\n",
    "\n",
    "dataset_path = \"../data/celeba/images\"\n",
    "\n",
    "# dataset_path = \"../data/art_dataset/resized/resized/\"\n",
    "dataset_statistics_path = \"/\".join(dataset_path.split(\"/\")[:-1]) + \"/inception_statistics.npz\""
   ]
  },
  {
   "cell_type": "code",
   "execution_count": null,
   "metadata": {},
   "outputs": [],
   "source": [
    "model = DCGAN(\n",
    "    num_channels=num_channels,\n",
    "    latent_dim=latent_dim,\n",
    "    num_generator_features=num_discriminator_features,\n",
    "    num_discriminator_features=num_discriminator_features,\n",
    ").to(DEVICE)"
   ]
  },
  {
   "cell_type": "code",
   "execution_count": null,
   "metadata": {},
   "outputs": [],
   "source": [
    "inception_model = InceptionV3().to(DEVICE)"
   ]
  },
  {
   "cell_type": "markdown",
   "metadata": {},
   "source": [
    "## Compute statistics for dataset"
   ]
  },
  {
   "cell_type": "code",
   "execution_count": null,
   "metadata": {},
   "outputs": [],
   "source": [
    "m1, s1 = compute_statistics_of_path(dataset_path, inception_model, BATCH_SIZE, 2048, DEVICE, 12)\n",
    "print(m1, s1)\n"
   ]
  },
  {
   "cell_type": "code",
   "execution_count": null,
   "metadata": {},
   "outputs": [],
   "source": [
    "\n",
    "np.savez(dataset_statistics_path, m=m1, s=s1)"
   ]
  },
  {
   "cell_type": "code",
   "execution_count": null,
   "metadata": {},
   "outputs": [],
   "source": [
    "dataset_statistics_file = np.load(dataset_statistics_path)\n",
    "mu_dataset = dataset_statistics_file[\"m\"]\n",
    "sigma_dataset = dataset_statistics_file[\"s\"]\n",
    "print(mu_dataset.shape)\n",
    "print(sigma_dataset.shape)"
   ]
  },
  {
   "cell_type": "markdown",
   "metadata": {},
   "source": [
    "## Compute statistics for batch of predictions"
   ]
  },
  {
   "cell_type": "code",
   "execution_count": null,
   "metadata": {},
   "outputs": [],
   "source": [
    "z = torch.randn(BATCH_SIZE, latent_dim, 1, 1).to(DEVICE)\n",
    "generated_images = model(z)\n",
    "print(z.shape)"
   ]
  },
  {
   "cell_type": "code",
   "execution_count": null,
   "metadata": {},
   "outputs": [],
   "source": [
    "pred = inception_model(generated_images)[0]"
   ]
  },
  {
   "cell_type": "code",
   "execution_count": null,
   "metadata": {},
   "outputs": [],
   "source": [
    "resized_pred = pred.squeeze().detach().cpu().numpy()\n",
    "pred_mu = np.mean(resized_pred, axis=0)\n",
    "pred_sigma = np.cov(resized_pred, rowvar=False)"
   ]
  },
  {
   "cell_type": "code",
   "execution_count": null,
   "metadata": {},
   "outputs": [],
   "source": [
    "print(pred_mu.shape)\n",
    "print(pred_sigma.shape)"
   ]
  },
  {
   "cell_type": "code",
   "execution_count": null,
   "metadata": {},
   "outputs": [],
   "source": [
    "calculate_frechet_distance(\n",
    "    mu1=pred_mu, sigma1=pred_sigma, mu2=mu_dataset, sigma2=sigma_dataset\n",
    ")\n"
   ]
  },
  {
   "cell_type": "code",
   "execution_count": null,
   "metadata": {},
   "outputs": [],
   "source": [
    "from fid import FID\n",
    "ds_fid = FID(\"celeba\", image_size=IMAGE_SIZE, batch_size=BATCH_SIZE, device=DEVICE)\n",
    "\n",
    "ds_fid.compute_statistics_of_path()"
   ]
  }
 ],
 "metadata": {
  "interpreter": {
   "hash": "64df8562ad1e0b9a54ae19b6f8c3a592180281d35bf5de73bc27ee58f75114dd"
  },
  "kernelspec": {
   "display_name": "Python 3.9.5 ('torch')",
   "language": "python",
   "name": "python3"
  },
  "language_info": {
   "codemirror_mode": {
    "name": "ipython",
    "version": 3
   },
   "file_extension": ".py",
   "mimetype": "text/x-python",
   "name": "python",
   "nbconvert_exporter": "python",
   "pygments_lexer": "ipython3",
   "version": "3.8.10"
  },
  "orig_nbformat": 4
 },
 "nbformat": 4,
 "nbformat_minor": 2
}
