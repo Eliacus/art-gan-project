{
 "cells": [
  {
   "cell_type": "code",
   "execution_count": 1,
   "metadata": {},
   "outputs": [],
   "source": [
    "from DCGAN import DCGAN\n",
    "from fid import calculate_frechet_distance, compute_statistics_of_path, calculate_frechet_distance\n",
    "from inception import InceptionV3\n",
    "import os\n",
    "import numpy as np\n",
    "import torch"
   ]
  },
  {
   "cell_type": "code",
   "execution_count": 2,
   "metadata": {},
   "outputs": [],
   "source": [
    "# Number of channels in the training images. For color images this is 3\n",
    "num_channels = 3\n",
    "\n",
    "# Size of z latent vector (i.e. size of generator input)\n",
    "latent_dim = 128\n",
    "\n",
    "# Size of feature maps in generator\n",
    "num_generator_features = 128\n",
    "\n",
    "# Size of feature maps in discriminator\n",
    "num_discriminator_features = 64\n",
    "\n",
    "NUM_WORKERS = int(os.cpu_count() - 1)\n",
    "BATCH_SIZE = 6 \n",
    "\n",
    "IMAGE_SIZE = 512\n",
    "\n",
    "device = \"cpu\"\n",
    "\n",
    "dataset_path = \"../data/celeba/img_align_celeba/img_align_celeba/\"\n",
    "\n",
    "dataset_path = \"../data/art_dataset/resized/resized/\"\n",
    "dataset_statistics_path = \"/\".join(dataset_path.split(\"/\")[:-1]) + \"/inception_statistics.npz\""
   ]
  },
  {
   "cell_type": "code",
   "execution_count": 3,
   "metadata": {},
   "outputs": [],
   "source": [
    "model = DCGAN(\n",
    "    num_channels=num_channels,\n",
    "    latent_dim=latent_dim,\n",
    "    num_generator_features=num_discriminator_features,\n",
    "    num_discriminator_features=num_discriminator_features,\n",
    ").to(device)"
   ]
  },
  {
   "cell_type": "code",
   "execution_count": 4,
   "metadata": {},
   "outputs": [],
   "source": [
    "inception_model = InceptionV3().to(device)"
   ]
  },
  {
   "cell_type": "markdown",
   "metadata": {},
   "source": [
    "## Compute statistics for dataset"
   ]
  },
  {
   "cell_type": "code",
   "execution_count": 5,
   "metadata": {},
   "outputs": [
    {
     "name": "stderr",
     "output_type": "stream",
     "text": [
      "100%|██████████| 1448/1448 [05:33<00:00,  4.34it/s]\n"
     ]
    },
    {
     "name": "stdout",
     "output_type": "stream",
     "text": [
      "[0.25800682 0.30712518 0.2384513  ... 0.39552785 0.35121119 0.48443139] [[ 0.03824288 -0.00230245  0.00187763 ...  0.00401214 -0.00159032\n",
      "   0.00057394]\n",
      " [-0.00230245  0.0691257  -0.00308235 ... -0.0012949   0.01224022\n",
      "  -0.00482495]\n",
      " [ 0.00187763 -0.00308235  0.04732785 ... -0.00113145  0.00652731\n",
      "   0.00723025]\n",
      " ...\n",
      " [ 0.00401214 -0.0012949  -0.00113145 ...  0.14086064  0.00867903\n",
      "   0.01277959]\n",
      " [-0.00159032  0.01224022  0.00652731 ...  0.00867903  0.09965251\n",
      "   0.00404461]\n",
      " [ 0.00057394 -0.00482495  0.00723025 ...  0.01277959  0.00404461\n",
      "   0.16002851]]\n"
     ]
    }
   ],
   "source": [
    "m1, s1 = compute_statistics_of_path(dataset_path, inception_model, BATCH_SIZE, 2048, device, 12)\n",
    "print(m1, s1)\n"
   ]
  },
  {
   "cell_type": "code",
   "execution_count": 13,
   "metadata": {},
   "outputs": [
    {
     "ename": "FileNotFoundError",
     "evalue": "[Errno 2] No such file or directory: '../data/art_dataset/resized/resized/inception_statistics.npz'",
     "output_type": "error",
     "traceback": [
      "\u001b[0;31m---------------------------------------------------------------------------\u001b[0m",
      "\u001b[0;31mFileNotFoundError\u001b[0m                         Traceback (most recent call last)",
      "\u001b[1;32m/home/elias/dev/gan_project/src/compute_fid.ipynb Cell 7'\u001b[0m in \u001b[0;36m<module>\u001b[0;34m\u001b[0m\n\u001b[0;32m----> <a href='vscode-notebook-cell://ssh-remote%2Bhome_desktop/home/elias/dev/gan_project/src/compute_fid.ipynb#ch0000006vscode-remote?line=0'>1</a>\u001b[0m np\u001b[39m.\u001b[39;49msavez(dataset_statistics_path, m\u001b[39m=\u001b[39;49mm1, s\u001b[39m=\u001b[39;49ms1)\n",
      "File \u001b[0;32m<__array_function__ internals>:5\u001b[0m, in \u001b[0;36msavez\u001b[0;34m(*args, **kwargs)\u001b[0m\n",
      "File \u001b[0;32m~/.virtualenvs/torch/lib/python3.9/site-packages/numpy/lib/npyio.py:618\u001b[0m, in \u001b[0;36msavez\u001b[0;34m(file, *args, **kwds)\u001b[0m\n\u001b[1;32m    <a href='file:///home/elias/.virtualenvs/torch/lib/python3.9/site-packages/numpy/lib/npyio.py?line=537'>538</a>\u001b[0m \u001b[39m@array_function_dispatch\u001b[39m(_savez_dispatcher)\n\u001b[1;32m    <a href='file:///home/elias/.virtualenvs/torch/lib/python3.9/site-packages/numpy/lib/npyio.py?line=538'>539</a>\u001b[0m \u001b[39mdef\u001b[39;00m \u001b[39msavez\u001b[39m(file, \u001b[39m*\u001b[39margs, \u001b[39m*\u001b[39m\u001b[39m*\u001b[39mkwds):\n\u001b[1;32m    <a href='file:///home/elias/.virtualenvs/torch/lib/python3.9/site-packages/numpy/lib/npyio.py?line=539'>540</a>\u001b[0m     \u001b[39m\"\"\"Save several arrays into a single file in uncompressed ``.npz`` format.\u001b[39;00m\n\u001b[1;32m    <a href='file:///home/elias/.virtualenvs/torch/lib/python3.9/site-packages/numpy/lib/npyio.py?line=540'>541</a>\u001b[0m \n\u001b[1;32m    <a href='file:///home/elias/.virtualenvs/torch/lib/python3.9/site-packages/numpy/lib/npyio.py?line=541'>542</a>\u001b[0m \u001b[39m    Provide arrays as keyword arguments to store them under the\u001b[39;00m\n\u001b[0;32m   (...)\u001b[0m\n\u001b[1;32m    <a href='file:///home/elias/.virtualenvs/torch/lib/python3.9/site-packages/numpy/lib/npyio.py?line=615'>616</a>\u001b[0m \n\u001b[1;32m    <a href='file:///home/elias/.virtualenvs/torch/lib/python3.9/site-packages/numpy/lib/npyio.py?line=616'>617</a>\u001b[0m \u001b[39m    \"\"\"\u001b[39;00m\n\u001b[0;32m--> <a href='file:///home/elias/.virtualenvs/torch/lib/python3.9/site-packages/numpy/lib/npyio.py?line=617'>618</a>\u001b[0m     _savez(file, args, kwds, \u001b[39mFalse\u001b[39;49;00m)\n",
      "File \u001b[0;32m~/.virtualenvs/torch/lib/python3.9/site-packages/numpy/lib/npyio.py:715\u001b[0m, in \u001b[0;36m_savez\u001b[0;34m(file, args, kwds, compress, allow_pickle, pickle_kwargs)\u001b[0m\n\u001b[1;32m    <a href='file:///home/elias/.virtualenvs/torch/lib/python3.9/site-packages/numpy/lib/npyio.py?line=711'>712</a>\u001b[0m \u001b[39melse\u001b[39;00m:\n\u001b[1;32m    <a href='file:///home/elias/.virtualenvs/torch/lib/python3.9/site-packages/numpy/lib/npyio.py?line=712'>713</a>\u001b[0m     compression \u001b[39m=\u001b[39m zipfile\u001b[39m.\u001b[39mZIP_STORED\n\u001b[0;32m--> <a href='file:///home/elias/.virtualenvs/torch/lib/python3.9/site-packages/numpy/lib/npyio.py?line=714'>715</a>\u001b[0m zipf \u001b[39m=\u001b[39m zipfile_factory(file, mode\u001b[39m=\u001b[39;49m\u001b[39m\"\u001b[39;49m\u001b[39mw\u001b[39;49m\u001b[39m\"\u001b[39;49m, compression\u001b[39m=\u001b[39;49mcompression)\n\u001b[1;32m    <a href='file:///home/elias/.virtualenvs/torch/lib/python3.9/site-packages/numpy/lib/npyio.py?line=716'>717</a>\u001b[0m \u001b[39mfor\u001b[39;00m key, val \u001b[39min\u001b[39;00m namedict\u001b[39m.\u001b[39mitems():\n\u001b[1;32m    <a href='file:///home/elias/.virtualenvs/torch/lib/python3.9/site-packages/numpy/lib/npyio.py?line=717'>718</a>\u001b[0m     fname \u001b[39m=\u001b[39m key \u001b[39m+\u001b[39m \u001b[39m'\u001b[39m\u001b[39m.npy\u001b[39m\u001b[39m'\u001b[39m\n",
      "File \u001b[0;32m~/.virtualenvs/torch/lib/python3.9/site-packages/numpy/lib/npyio.py:112\u001b[0m, in \u001b[0;36mzipfile_factory\u001b[0;34m(file, *args, **kwargs)\u001b[0m\n\u001b[1;32m    <a href='file:///home/elias/.virtualenvs/torch/lib/python3.9/site-packages/numpy/lib/npyio.py?line=109'>110</a>\u001b[0m \u001b[39mimport\u001b[39;00m \u001b[39mzipfile\u001b[39;00m\n\u001b[1;32m    <a href='file:///home/elias/.virtualenvs/torch/lib/python3.9/site-packages/numpy/lib/npyio.py?line=110'>111</a>\u001b[0m kwargs[\u001b[39m'\u001b[39m\u001b[39mallowZip64\u001b[39m\u001b[39m'\u001b[39m] \u001b[39m=\u001b[39m \u001b[39mTrue\u001b[39;00m\n\u001b[0;32m--> <a href='file:///home/elias/.virtualenvs/torch/lib/python3.9/site-packages/numpy/lib/npyio.py?line=111'>112</a>\u001b[0m \u001b[39mreturn\u001b[39;00m zipfile\u001b[39m.\u001b[39;49mZipFile(file, \u001b[39m*\u001b[39;49margs, \u001b[39m*\u001b[39;49m\u001b[39m*\u001b[39;49mkwargs)\n",
      "File \u001b[0;32m/usr/lib/python3.9/zipfile.py:1239\u001b[0m, in \u001b[0;36mZipFile.__init__\u001b[0;34m(self, file, mode, compression, allowZip64, compresslevel, strict_timestamps)\u001b[0m\n\u001b[1;32m   <a href='file:///usr/lib/python3.9/zipfile.py?line=1236'>1237</a>\u001b[0m \u001b[39mwhile\u001b[39;00m \u001b[39mTrue\u001b[39;00m:\n\u001b[1;32m   <a href='file:///usr/lib/python3.9/zipfile.py?line=1237'>1238</a>\u001b[0m     \u001b[39mtry\u001b[39;00m:\n\u001b[0;32m-> <a href='file:///usr/lib/python3.9/zipfile.py?line=1238'>1239</a>\u001b[0m         \u001b[39mself\u001b[39m\u001b[39m.\u001b[39mfp \u001b[39m=\u001b[39m io\u001b[39m.\u001b[39;49mopen(file, filemode)\n\u001b[1;32m   <a href='file:///usr/lib/python3.9/zipfile.py?line=1239'>1240</a>\u001b[0m     \u001b[39mexcept\u001b[39;00m \u001b[39mOSError\u001b[39;00m:\n\u001b[1;32m   <a href='file:///usr/lib/python3.9/zipfile.py?line=1240'>1241</a>\u001b[0m         \u001b[39mif\u001b[39;00m filemode \u001b[39min\u001b[39;00m modeDict:\n",
      "\u001b[0;31mFileNotFoundError\u001b[0m: [Errno 2] No such file or directory: '../data/art_dataset/resized/resized/inception_statistics.npz'"
     ]
    }
   ],
   "source": [
    "\n",
    "np.savez(dataset_statistics_path, m=m1, s=s1)"
   ]
  },
  {
   "cell_type": "code",
   "execution_count": 7,
   "metadata": {},
   "outputs": [
    {
     "name": "stdout",
     "output_type": "stream",
     "text": [
      "(2048,)\n",
      "(2048, 2048)\n"
     ]
    }
   ],
   "source": [
    "dataset_statistics_file = np.load(dataset_statistics_path)\n",
    "m = dataset_statistics_file[\"m\"]\n",
    "s = dataset_statistics_file[\"s\"]\n",
    "print(m.shape)\n",
    "print(s.shape)"
   ]
  },
  {
   "cell_type": "markdown",
   "metadata": {},
   "source": [
    "## Compute statistics for batch of predictions"
   ]
  },
  {
   "cell_type": "code",
   "execution_count": 8,
   "metadata": {},
   "outputs": [
    {
     "name": "stdout",
     "output_type": "stream",
     "text": [
      "torch.Size([6, 128, 1, 1])\n"
     ]
    }
   ],
   "source": [
    "z = torch.randn(BATCH_SIZE, latent_dim, 1, 1).to(device)\n",
    "generated_images = model(z)\n",
    "print(z.shape)"
   ]
  },
  {
   "cell_type": "code",
   "execution_count": 9,
   "metadata": {},
   "outputs": [],
   "source": [
    "pred = inception_model(generated_images)[0]"
   ]
  },
  {
   "cell_type": "code",
   "execution_count": 10,
   "metadata": {},
   "outputs": [],
   "source": [
    "resized_pred = pred.squeeze().detach().cpu().numpy()\n",
    "mu2 = np.mean(resized_pred, axis=0)\n",
    "sigma = np.cov(resized_pred, rowvar=False)"
   ]
  },
  {
   "cell_type": "code",
   "execution_count": 11,
   "metadata": {},
   "outputs": [
    {
     "name": "stdout",
     "output_type": "stream",
     "text": [
      "(2048,)\n",
      "(2048, 2048)\n"
     ]
    }
   ],
   "source": [
    "print(mu2.shape)\n",
    "print(sigma.shape)"
   ]
  },
  {
   "cell_type": "code",
   "execution_count": 12,
   "metadata": {},
   "outputs": [
    {
     "data": {
      "text/plain": [
       "545.1638588031259"
      ]
     },
     "execution_count": 12,
     "metadata": {},
     "output_type": "execute_result"
    }
   ],
   "source": [
    "calculate_frechet_distance(mu2, sigma, m, s)"
   ]
  },
  {
   "cell_type": "code",
   "execution_count": 1,
   "metadata": {},
   "outputs": [
    {
     "ename": "ModuleNotFoundError",
     "evalue": "No module named 'src'",
     "output_type": "error",
     "traceback": [
      "\u001b[0;31m---------------------------------------------------------------------------\u001b[0m",
      "\u001b[0;31mModuleNotFoundError\u001b[0m                       Traceback (most recent call last)",
      "\u001b[1;32m/home/elias/dev/gan_project/src/compute_fid.ipynb Cell 15'\u001b[0m in \u001b[0;36m<module>\u001b[0;34m\u001b[0m\n\u001b[0;32m----> <a href='vscode-notebook-cell://ssh-remote%2Bhome_desktop/home/elias/dev/gan_project/src/compute_fid.ipynb#ch0000016vscode-remote?line=0'>1</a>\u001b[0m \u001b[39mfrom\u001b[39;00m \u001b[39mfid\u001b[39;00m \u001b[39mimport\u001b[39;00m FID\n",
      "File \u001b[0;32m~/dev/gan_project/src/fid.py:36\u001b[0m, in \u001b[0;36m<module>\u001b[0;34m\u001b[0m\n\u001b[1;32m     <a href='file:///home/elias/dev/gan_project/src/fid.py?line=32'>33</a>\u001b[0m \u001b[39mfrom\u001b[39;00m \u001b[39mscipy\u001b[39;00m \u001b[39mimport\u001b[39;00m linalg\n\u001b[1;32m     <a href='file:///home/elias/dev/gan_project/src/fid.py?line=33'>34</a>\u001b[0m \u001b[39mfrom\u001b[39;00m \u001b[39mtorch\u001b[39;00m\u001b[39m.\u001b[39;00m\u001b[39mnn\u001b[39;00m\u001b[39m.\u001b[39;00m\u001b[39mfunctional\u001b[39;00m \u001b[39mimport\u001b[39;00m adaptive_avg_pool2d\n\u001b[0;32m---> <a href='file:///home/elias/dev/gan_project/src/fid.py?line=35'>36</a>\u001b[0m \u001b[39mfrom\u001b[39;00m \u001b[39mdata_modules\u001b[39;00m \u001b[39mimport\u001b[39;00m data_modules\n\u001b[1;32m     <a href='file:///home/elias/dev/gan_project/src/fid.py?line=36'>37</a>\u001b[0m \u001b[39mfrom\u001b[39;00m \u001b[39msrc\u001b[39;00m \u001b[39mimport\u001b[39;00m ROOT\n\u001b[1;32m     <a href='file:///home/elias/dev/gan_project/src/fid.py?line=38'>39</a>\u001b[0m \u001b[39mtry\u001b[39;00m:\n",
      "File \u001b[0;32m~/dev/gan_project/src/data_modules.py:9\u001b[0m, in \u001b[0;36m<module>\u001b[0;34m\u001b[0m\n\u001b[1;32m      <a href='file:///home/elias/dev/gan_project/src/data_modules.py?line=5'>6</a>\u001b[0m \u001b[39mfrom\u001b[39;00m \u001b[39mtorch\u001b[39;00m\u001b[39m.\u001b[39;00m\u001b[39mutils\u001b[39;00m\u001b[39m.\u001b[39;00m\u001b[39mdata\u001b[39;00m \u001b[39mimport\u001b[39;00m DataLoader\n\u001b[1;32m      <a href='file:///home/elias/dev/gan_project/src/data_modules.py?line=6'>7</a>\u001b[0m \u001b[39mfrom\u001b[39;00m \u001b[39mtorchvision\u001b[39;00m\u001b[39m.\u001b[39;00m\u001b[39mdatasets\u001b[39;00m \u001b[39mimport\u001b[39;00m ImageFolder\n\u001b[0;32m----> <a href='file:///home/elias/dev/gan_project/src/data_modules.py?line=8'>9</a>\u001b[0m \u001b[39mfrom\u001b[39;00m \u001b[39msrc\u001b[39;00m \u001b[39mimport\u001b[39;00m ROOT\n\u001b[1;32m     <a href='file:///home/elias/dev/gan_project/src/data_modules.py?line=11'>12</a>\u001b[0m \u001b[39mclass\u001b[39;00m \u001b[39mGANImageDataModule\u001b[39;00m(pl\u001b[39m.\u001b[39mLightningDataModule):\n\u001b[1;32m     <a href='file:///home/elias/dev/gan_project/src/data_modules.py?line=12'>13</a>\u001b[0m     \u001b[39mdef\u001b[39;00m \u001b[39m__init__\u001b[39m(\n\u001b[1;32m     <a href='file:///home/elias/dev/gan_project/src/data_modules.py?line=13'>14</a>\u001b[0m         \u001b[39mself\u001b[39m,\n\u001b[1;32m     <a href='file:///home/elias/dev/gan_project/src/data_modules.py?line=14'>15</a>\u001b[0m         batch_size: \u001b[39mint\u001b[39m,\n\u001b[0;32m   (...)\u001b[0m\n\u001b[1;32m     <a href='file:///home/elias/dev/gan_project/src/data_modules.py?line=17'>18</a>\u001b[0m         image_size: \u001b[39mtuple\u001b[39m \u001b[39m=\u001b[39m (\u001b[39m64\u001b[39m, \u001b[39m64\u001b[39m),\n\u001b[1;32m     <a href='file:///home/elias/dev/gan_project/src/data_modules.py?line=18'>19</a>\u001b[0m     ):\n",
      "\u001b[0;31mModuleNotFoundError\u001b[0m: No module named 'src'"
     ]
    }
   ],
   "source": [
    "from fid import FID"
   ]
  }
 ],
 "metadata": {
  "interpreter": {
   "hash": "64df8562ad1e0b9a54ae19b6f8c3a592180281d35bf5de73bc27ee58f75114dd"
  },
  "kernelspec": {
   "display_name": "Python 3.9.5 ('torch')",
   "language": "python",
   "name": "python3"
  },
  "language_info": {
   "codemirror_mode": {
    "name": "ipython",
    "version": 3
   },
   "file_extension": ".py",
   "mimetype": "text/x-python",
   "name": "python",
   "nbconvert_exporter": "python",
   "pygments_lexer": "ipython3",
   "version": "3.9.5"
  },
  "orig_nbformat": 4
 },
 "nbformat": 4,
 "nbformat_minor": 2
}
