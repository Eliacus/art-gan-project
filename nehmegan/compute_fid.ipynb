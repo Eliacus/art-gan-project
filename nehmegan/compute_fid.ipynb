{
 "cells": [
  {
   "cell_type": "code",
   "execution_count": null,
   "metadata": {},
   "outputs": [],
   "source": [
    "from DCGAN import DCGAN\n",
    "from nehmegan.fid import FID\n",
    "from inception import InceptionV3\n",
    "import os\n",
    "import numpy as np\n",
    "import torch\n",
    "\n",
    "%load_ext autoreload\n",
    "%autoreload 2"
   ]
  },
  {
   "cell_type": "code",
   "execution_count": null,
   "metadata": {},
   "outputs": [],
   "source": [
    "# Number of channels in the training images. For color images this is 3\n",
    "num_channels = 3\n",
    "\n",
    "# Size of z latent vector (i.e. size of generator input)\n",
    "latent_dim = 128\n",
    "\n",
    "# Size of feature maps in generator\n",
    "num_generator_features = 128\n",
    "\n",
    "# Size of feature maps in discriminator\n",
    "num_discriminator_features = 64\n",
    "\n",
    "NUM_WORKERS = int(os.cpu_count() - 1)\n",
    "BATCH_SIZE = 6 \n",
    "\n",
    "IMAGE_SIZE = 512\n",
    "\n",
    "DEVICE = \"cuda\"\n",
    "\n",
    "dataset = \"art\""
   ]
  },
  {
   "cell_type": "markdown",
   "metadata": {},
   "source": [
    "### Generate a batch of image predictions (To calculate FID for)"
   ]
  },
  {
   "cell_type": "code",
   "execution_count": null,
   "metadata": {},
   "outputs": [],
   "source": [
    "model = DCGAN(\n",
    "    num_channels=num_channels,\n",
    "    latent_dim=latent_dim,\n",
    "    num_generator_features=num_discriminator_features,\n",
    "    num_discriminator_features=num_discriminator_features,\n",
    ").to(DEVICE)"
   ]
  },
  {
   "cell_type": "code",
   "execution_count": null,
   "metadata": {},
   "outputs": [],
   "source": [
    "z = torch.randn(BATCH_SIZE, latent_dim, 1, 1).to(DEVICE)\n",
    "generated_images = model(z)\n",
    "print(z.shape)"
   ]
  },
  {
   "cell_type": "markdown",
   "metadata": {},
   "source": [
    "### Calculate FID "
   ]
  },
  {
   "cell_type": "code",
   "execution_count": null,
   "metadata": {},
   "outputs": [],
   "source": [
    "fid = FID(dataset_name=dataset, image_size=IMAGE_SIZE, batch_size=BATCH_SIZE, device=DEVICE)\n",
    "\n",
    "fid.calculate_fid(generated_images)"
   ]
  }
 ],
 "metadata": {
  "interpreter": {
   "hash": "64df8562ad1e0b9a54ae19b6f8c3a592180281d35bf5de73bc27ee58f75114dd"
  },
  "kernelspec": {
   "display_name": "Python 3.9.5 ('torch')",
   "language": "python",
   "name": "python3"
  },
  "language_info": {
   "codemirror_mode": {
    "name": "ipython",
    "version": 3
   },
   "file_extension": ".py",
   "mimetype": "text/x-python",
   "name": "python",
   "nbconvert_exporter": "python",
   "pygments_lexer": "ipython3",
   "version": "3.8.10"
  },
  "orig_nbformat": 4
 },
 "nbformat": 4,
 "nbformat_minor": 2
}
